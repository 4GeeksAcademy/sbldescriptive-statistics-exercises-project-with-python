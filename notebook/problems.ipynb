{
    "cells": [
        {
            "cell_type": "markdown",
            "id": "ac622319",
            "metadata": {},
            "source": [
                "# Descriptive statistics problems"
            ]
        },
        {
            "cell_type": "markdown",
            "id": "5e0ab0d5",
            "metadata": {},
            "source": [
                "### Exercise 1\n",
                "\n",
                "We will use NumPy to obtain information to describe statistically.\n",
                "\n",
                "- Generate an array of 100 elements following a normal distribution.\n",
                "- Generate an array of 100 elements following a chi-square distribution with 3 degrees of freedom.\n",
                "- Calculate the main metrics and statistical measures that best describe the two vectors."
            ]
        },
        {
            "cell_type": "code",
            "execution_count": 36,
            "id": "34720ab6",
            "metadata": {},
            "outputs": [
                {
                    "name": "stdout",
                    "output_type": "stream",
                    "text": [
                        "Array Normal [ 1.46473759e+00 -1.20905067e+00 -8.95590461e-01  1.87598322e-01\n",
                        "  1.21122641e+00  3.71957440e-01  1.36292975e-01 -8.44525459e-01\n",
                        "  1.60254868e+00  1.78325456e-01  1.25731148e-01 -1.58412637e+00\n",
                        " -1.08387743e+00  8.89021982e-01 -1.28278813e+00 -8.16358549e-01\n",
                        " -8.01658162e-02  1.29379646e+00 -6.36432963e-01 -1.39124193e+00\n",
                        "  1.08966042e-01 -7.15533444e-04  4.44923322e-01 -9.59531940e-02\n",
                        " -5.99151255e-01 -1.52207185e+00 -1.15678507e+00 -3.78725820e-01\n",
                        " -2.24090120e-01 -1.03845866e+00 -7.68797487e-01 -6.88373991e-01\n",
                        " -1.41415658e+00  9.11441144e-01  1.28399583e-01 -2.73316807e-01\n",
                        " -5.65681816e-01 -1.94335634e-01  2.22508751e-01  8.83399498e-02\n",
                        " -6.81538094e-01  1.07294712e+00 -1.31079295e-02  2.53660581e-01\n",
                        "  7.88218970e-01 -1.33662208e-01  4.76895678e-02  2.73987491e+00\n",
                        "  1.49187555e+00  1.91565134e-01  1.06896661e+00  9.00499250e-01\n",
                        "  5.91336329e-01  1.32723822e+00  5.97006104e-01  1.92878139e+00\n",
                        "  1.59036811e-01 -1.57957029e+00  1.35083331e+00 -1.17810991e+00\n",
                        "  1.97753233e-01 -4.32689259e-01 -2.75130000e-01 -9.03125819e-01\n",
                        " -5.66195604e-01 -8.14714333e-01 -5.98905752e-01  1.57587558e+00\n",
                        "  7.01375516e-01 -1.11344775e-01  4.63980492e-01 -2.27500526e-01\n",
                        " -2.05164620e-01 -6.42291167e-01 -4.74962839e-01 -2.34537703e+00\n",
                        "  3.93954793e-02 -1.24287550e+00 -7.00303747e-01 -7.12160733e-01\n",
                        " -2.56191177e-01 -4.18130732e-01 -1.28183925e-01  2.46214590e-01\n",
                        "  1.34730132e+00 -1.08723065e+00 -6.83464899e-01 -3.35512581e-01\n",
                        " -5.21007263e-01  3.90973627e-01  1.44926573e+00 -1.19673607e-01\n",
                        " -2.87343825e-01 -1.10228173e+00  1.68516743e+00  1.25926655e+00\n",
                        "  5.91378192e-01  1.80739140e+00  5.79461623e-01  2.48410362e-01]\n",
                        "Array con una distribución chi-cuadrado de 3 grados de libertad [ 8.14369723  0.21148239  3.66314581  1.84416051  2.10699358 12.45702815\n",
                        "  2.52530624  9.7486471   5.77657372  3.92054904  2.61496529  7.13427825\n",
                        "  5.18927143  0.76681614  7.53649803  3.92509373  3.12220351  0.9539337\n",
                        "  5.51765953 11.20670648  2.97036079  1.26318172  0.69345457  1.57583068\n",
                        "  1.95246138  0.83657635  0.08961399  3.26547536  1.27088456  0.69064657\n",
                        "  2.61859412  3.19737067  0.3235441   1.55673861  6.87253092  1.1689791\n",
                        "  3.20199013  4.7317416   7.10443985  3.49391747  1.51559675  6.35065574\n",
                        "  3.56312805  1.77562036  2.16729751  0.08544625  4.93262285  2.96588777\n",
                        " 11.20319516  1.94426796  2.32425492  1.23900836  1.3246323   2.99463257\n",
                        "  0.50212056  0.76162164  3.45797385  4.60865548  2.39103097  4.07350062\n",
                        "  3.51418837  3.28625431  0.63236018  0.95678247  2.02560881  1.15694066\n",
                        "  4.94436256  3.07523171  1.68270254  5.66092211  0.7074522   8.92934667\n",
                        "  4.10752381  7.86122777  0.37722302  2.23047485  7.53998986  2.5220968\n",
                        "  0.51056699  5.0658087   6.01879698  9.09595894  6.10306629  3.70032008\n",
                        "  1.31451543  0.74583398  0.47149763  0.52556303  1.92424261  4.81669745\n",
                        "  2.16296841  9.58275541  3.82367555  2.92232924  5.33319792  4.20025507\n",
                        " 12.28552511  3.24023647  2.26083292  1.06509529]\n",
                        "promedio array normal -0.010639658856439284\n",
                        "promedio Array con una distribución chi-cuadrado de 3 grados de libertad 3.5580492024019126 \n"
                    ]
                }
            ],
            "source": [
                "# TODO\n",
                "\n",
                "import numpy as np\n",
                "\n",
                "array_normal = np.random.normal(size = 100)\n",
                "array_chi = np.random.chisquare(3,100)\n",
                "\n",
                "print(f\"Array Normal {array_normal}\")\n",
                "print(f\"Array con una distribución chi-cuadrado de 3 grados de libertad {array_chi}\")\n",
                "\n",
                "import statistics as stats\n",
                "\n",
                "promedio = stats.mean(array_normal)\n",
                "promedio_chi = stats.mean(array_chi)\n",
                "\n",
                "print(f\"promedio array normal {promedio}\")\n",
                "print(f\"promedio Array con una distribución chi-cuadrado de 3 grados de libertad {promedio_chi} \")\n",
                "\n"
            ]
        },
        {
            "cell_type": "code",
            "execution_count": 37,
            "id": "90a90926",
            "metadata": {},
            "outputs": [
                {
                    "name": "stdout",
                    "output_type": "stream",
                    "text": [
                        "mediana array normal -0.10364898464066197\n",
                        "mediana Array con una distribución chi-cuadrado de 3 grados de libertad 2.968124282088864 \n"
                    ]
                }
            ],
            "source": [
                "mediana = stats.median(array_normal)\n",
                "mediana_chi = stats.median(array_chi)\n",
                "\n",
                "print(f\"mediana array normal {mediana}\")\n",
                "print(f\"mediana Array con una distribución chi-cuadrado de 3 grados de libertad {mediana_chi} \")"
            ]
        },
        {
            "cell_type": "code",
            "execution_count": 39,
            "id": "123077cf",
            "metadata": {},
            "outputs": [
                {
                    "name": "stdout",
                    "output_type": "stream",
                    "text": [
                        "Moda array normal 1.4647375883878064\n",
                        "Moda Array con una distribución chi-cuadrado de 3 grados de libertad 8.14369722911652 \n"
                    ]
                }
            ],
            "source": [
                "moda = stats.mode(array_normal)\n",
                "moda_chi = stats.mode(array_chi)\n",
                "\n",
                "print(f\"Moda array normal {moda}\")\n",
                "print(f\"Moda Array con una distribución chi-cuadrado de 3 grados de libertad {moda_chi} \")\n"
            ]
        },
        {
            "cell_type": "code",
            "execution_count": 41,
            "id": "5fd6623b",
            "metadata": {},
            "outputs": [
                {
                    "name": "stdout",
                    "output_type": "stream",
                    "text": [
                        "Rango array normal 5.085251931822791\n",
                        "Rango Array con una distribución chi-cuadrado de 3 grados de libertad 12.371581904559712 \n"
                    ]
                }
            ],
            "source": [
                "rango = max(array_normal) - min(array_normal)\n",
                "rango_chi = max(array_chi) - min(array_chi)\n",
                "print(f\"Rango array normal {rango}\")\n",
                "print(f\"Rango Array con una distribución chi-cuadrado de 3 grados de libertad {rango_chi} \")"
            ]
        },
        {
            "cell_type": "code",
            "execution_count": 42,
            "id": "b1906d98",
            "metadata": {},
            "outputs": [
                {
                    "name": "stdout",
                    "output_type": "stream",
                    "text": [
                        "Varianza: 0.8755219084571287\n",
                        "Desviación estándar: 0.9356932769113652\n",
                        "Varianza Array con una distribución chi-cuadrado de 3 grados de libertad 8.38166913713535 \n",
                        "Desviación estándar Array con una distribución chi-cuadrado de 3 grados de libertad 2.8951112477995298 \n"
                    ]
                }
            ],
            "source": [
                "varianza = stats.variance(array_normal)\n",
                "std = stats.stdev(array_normal)\n",
                "varianza_chi = stats.variance(array_chi)\n",
                "std_chi = stats.stdev(array_chi)\n",
                "print(f\"Varianza: {varianza}\")\n",
                "print(f\"Desviación estándar: {std}\")\n",
                "print(f\"Varianza Array con una distribución chi-cuadrado de 3 grados de libertad {varianza_chi} \")\n",
                "print(f\"Desviación estándar Array con una distribución chi-cuadrado de 3 grados de libertad {std_chi} \")"
            ]
        },
        {
            "cell_type": "code",
            "execution_count": 46,
            "id": "fb75162e",
            "metadata": {},
            "outputs": [
                {
                    "name": "stdout",
                    "output_type": "stream",
                    "text": [
                        "Asimetria array normal 0.341481662236814\n",
                        "asimetria Array con una distribución chi-cuadrado de 3 grados de libertad 1.2045862716540188 \n"
                    ]
                }
            ],
            "source": [
                "from scipy.stats import skew\n",
                "\n",
                "\n",
                "asimetria = skew(array_normal)\n",
                "asimetria_chi = skew(array_chi)\n",
                "print(f\"Asimetria array normal {asimetria}\")\n",
                "print(f\"asimetria Array con una distribución chi-cuadrado de 3 grados de libertad {asimetria_chi} \")"
            ]
        },
        {
            "cell_type": "code",
            "execution_count": 49,
            "id": "cff3a434",
            "metadata": {},
            "outputs": [
                {
                    "name": "stdout",
                    "output_type": "stream",
                    "text": [
                        "Curtosis  array normal -0.10690219416070468\n",
                        "Curtosis Array con una distribución chi-cuadrado de 3 grados de libertad 0.9774398544422325 \n"
                    ]
                }
            ],
            "source": [
                "from scipy.stats import kurtosis\n",
                "\n",
                "Curtosis = kurtosis(array_normal)\n",
                "curtosis_chi = kurtosis(array_chi)\n",
                "\n",
                "print(f\"Curtosis  array normal {Curtosis}\")\n",
                "print(f\"Curtosis Array con una distribución chi-cuadrado de 3 grados de libertad {curtosis_chi } \")\n",
                "                                                                                \n"
            ]
        },
        {
            "cell_type": "markdown",
            "id": "46c70c3d",
            "metadata": {},
            "source": [
                "### Exercise 2\n",
                "\n",
                "Write a Python program to calculate the standard deviation of the following data:\n",
                "\n",
                "```py\n",
                "data = [4, 2, 5, 8, 6]\n",
                "```"
            ]
        },
        {
            "cell_type": "code",
            "execution_count": 6,
            "id": "d590308e",
            "metadata": {},
            "outputs": [
                {
                    "name": "stdout",
                    "output_type": "stream",
                    "text": [
                        "Datos de la muestra: [4, 2, 5, 8, 6]\n",
                        "Desviación estándar: 2.24\n"
                    ]
                }
            ],
            "source": [
                "import math\n",
                "\n",
                "datos = [4, 2, 5, 8, 6]\n",
                "\n",
                "# media\n",
                "def calcular_media(datos):\n",
                "    return sum(datos) / len(datos) if len(datos) > 0 else 0.0\n",
                "\n",
                "#  desviación estándar \n",
                "def calcular_desviacion_estandar(datos):\n",
                "    n = len(datos)\n",
                "    if n <= 1:\n",
                "        return 0.0\n",
                "\n",
                "    media = calcular_media(datos)\n",
                "    suma_cuadrados = sum((x - media) ** 2 for x in datos)\n",
                "    varianza = suma_cuadrados / (n - 1)\n",
                "    return math.sqrt(varianza)\n",
                "\n",
                "\n",
                "\n",
                "\n",
                "\n",
                "print(f\"Datos de la muestra: {datos}\")\n",
                "print(f\"Desviación estándar: {calcular_desviacion_estandar(datos):.2f}\")\n"
            ]
        }
    ],
    "metadata": {
        "kernelspec": {
            "display_name": "Python 3",
            "language": "python",
            "name": "python3"
        },
        "language_info": {
            "codemirror_mode": {
                "name": "ipython",
                "version": 3
            },
            "file_extension": ".py",
            "mimetype": "text/x-python",
            "name": "python",
            "nbconvert_exporter": "python",
            "pygments_lexer": "ipython3",
            "version": "3.11.4"
        }
    },
    "nbformat": 4,
    "nbformat_minor": 5
}
